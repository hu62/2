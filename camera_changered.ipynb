{
 "cells": [
  {
   "cell_type": "code",
   "execution_count": null,
   "metadata": {},
   "outputs": [],
   "source": [
    "import numpy as np\n",
    "import cv2\n",
    "\n",
    "def myfunc(i):\n",
    "    pass # do nothing\n",
    "\n",
    "cv2.namedWindow('curve') # create win with win name\n",
    "\n",
    "cv2.createTrackbar('value', # name of value\n",
    "                   'curve', # win name\n",
    "                   0, # min\n",
    "                   255, # max\n",
    "                   myfunc) # callback func\n",
    "\n",
    "\n",
    "cap = cv2.VideoCapture(0)\n",
    "cap.set(cv2.CAP_PROP_FRAME_WIDTH,  640)\n",
    "cap.set(cv2.CAP_PROP_FRAME_HEIGHT, 480)\n",
    "\n",
    "\n",
    "\n",
    "while(True):\n",
    "\n",
    "    ret, frame = cap.read()\n",
    "    if not ret: continue\n",
    "\n",
    "\n",
    "    v = cv2.getTrackbarPos('value',  # get the value\n",
    "                           'curve')  # of the win\n",
    "\n",
    "    ## do something by using v\n",
    "    frame[:,:,2] = v\n",
    "    \n",
    "    \n",
    "    \n",
    "    \n",
    "    cv2.imshow('curve', frame)  # show in the win\n",
    "\n",
    "    k = cv2.waitKey(1)\n",
    "    if k == ord('q') or k == 27:\n",
    "        break\n",
    "\n",
    "\n",
    "\n",
    "cap.release()\n",
    "cv2.destroyAllWindows()"
   ]
  },
  {
   "cell_type": "code",
   "execution_count": null,
   "metadata": {},
   "outputs": [],
   "source": []
  }
 ],
 "metadata": {
  "kernelspec": {
   "display_name": "Python 3",
   "language": "python",
   "name": "python3"
  },
  "language_info": {
   "codemirror_mode": {
    "name": "ipython",
    "version": 3
   },
   "file_extension": ".py",
   "mimetype": "text/x-python",
   "name": "python",
   "nbconvert_exporter": "python",
   "pygments_lexer": "ipython3",
   "version": "3.6.5"
  }
 },
 "nbformat": 4,
 "nbformat_minor": 2
}
